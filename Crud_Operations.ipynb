{
  "cells": [
    {
      "cell_type": "markdown",
      "metadata": {
        "id": "view-in-github",
        "colab_type": "text"
      },
      "source": [
        "<a href=\"https://colab.research.google.com/github/Abhishek-Singh-AS/Projects.ipynb/blob/main/Crud_Operations.ipynb\" target=\"_parent\"><img src=\"https://colab.research.google.com/assets/colab-badge.svg\" alt=\"Open In Colab\"/></a>"
      ]
    },
    {
      "cell_type": "code",
      "execution_count": null,
      "metadata": {
        "colab": {
          "base_uri": "https://localhost:8080/",
          "height": 519
        },
        "id": "mXrd6olC3xqr",
        "outputId": "83f6f269-6429-4db1-de27-9b22dd79722e"
      },
      "outputs": [
        {
          "data": {
            "text/html": [
              "\n",
              "     <input type=\"file\" id=\"files-7b894b09-a4e2-4d48-82ff-f34ddbcc74ea\" name=\"files[]\" multiple disabled\n",
              "        style=\"border:none\" />\n",
              "     <output id=\"result-7b894b09-a4e2-4d48-82ff-f34ddbcc74ea\">\n",
              "      Upload widget is only available when the cell has been executed in the\n",
              "      current browser session. Please rerun this cell to enable.\n",
              "      </output>\n",
              "      <script>// Copyright 2017 Google LLC\n",
              "//\n",
              "// Licensed under the Apache License, Version 2.0 (the \"License\");\n",
              "// you may not use this file except in compliance with the License.\n",
              "// You may obtain a copy of the License at\n",
              "//\n",
              "//      http://www.apache.org/licenses/LICENSE-2.0\n",
              "//\n",
              "// Unless required by applicable law or agreed to in writing, software\n",
              "// distributed under the License is distributed on an \"AS IS\" BASIS,\n",
              "// WITHOUT WARRANTIES OR CONDITIONS OF ANY KIND, either express or implied.\n",
              "// See the License for the specific language governing permissions and\n",
              "// limitations under the License.\n",
              "\n",
              "/**\n",
              " * @fileoverview Helpers for google.colab Python module.\n",
              " */\n",
              "(function(scope) {\n",
              "function span(text, styleAttributes = {}) {\n",
              "  const element = document.createElement('span');\n",
              "  element.textContent = text;\n",
              "  for (const key of Object.keys(styleAttributes)) {\n",
              "    element.style[key] = styleAttributes[key];\n",
              "  }\n",
              "  return element;\n",
              "}\n",
              "\n",
              "// Max number of bytes which will be uploaded at a time.\n",
              "const MAX_PAYLOAD_SIZE = 100 * 1024;\n",
              "\n",
              "function _uploadFiles(inputId, outputId) {\n",
              "  const steps = uploadFilesStep(inputId, outputId);\n",
              "  const outputElement = document.getElementById(outputId);\n",
              "  // Cache steps on the outputElement to make it available for the next call\n",
              "  // to uploadFilesContinue from Python.\n",
              "  outputElement.steps = steps;\n",
              "\n",
              "  return _uploadFilesContinue(outputId);\n",
              "}\n",
              "\n",
              "// This is roughly an async generator (not supported in the browser yet),\n",
              "// where there are multiple asynchronous steps and the Python side is going\n",
              "// to poll for completion of each step.\n",
              "// This uses a Promise to block the python side on completion of each step,\n",
              "// then passes the result of the previous step as the input to the next step.\n",
              "function _uploadFilesContinue(outputId) {\n",
              "  const outputElement = document.getElementById(outputId);\n",
              "  const steps = outputElement.steps;\n",
              "\n",
              "  const next = steps.next(outputElement.lastPromiseValue);\n",
              "  return Promise.resolve(next.value.promise).then((value) => {\n",
              "    // Cache the last promise value to make it available to the next\n",
              "    // step of the generator.\n",
              "    outputElement.lastPromiseValue = value;\n",
              "    return next.value.response;\n",
              "  });\n",
              "}\n",
              "\n",
              "/**\n",
              " * Generator function which is called between each async step of the upload\n",
              " * process.\n",
              " * @param {string} inputId Element ID of the input file picker element.\n",
              " * @param {string} outputId Element ID of the output display.\n",
              " * @return {!Iterable<!Object>} Iterable of next steps.\n",
              " */\n",
              "function* uploadFilesStep(inputId, outputId) {\n",
              "  const inputElement = document.getElementById(inputId);\n",
              "  inputElement.disabled = false;\n",
              "\n",
              "  const outputElement = document.getElementById(outputId);\n",
              "  outputElement.innerHTML = '';\n",
              "\n",
              "  const pickedPromise = new Promise((resolve) => {\n",
              "    inputElement.addEventListener('change', (e) => {\n",
              "      resolve(e.target.files);\n",
              "    });\n",
              "  });\n",
              "\n",
              "  const cancel = document.createElement('button');\n",
              "  inputElement.parentElement.appendChild(cancel);\n",
              "  cancel.textContent = 'Cancel upload';\n",
              "  const cancelPromise = new Promise((resolve) => {\n",
              "    cancel.onclick = () => {\n",
              "      resolve(null);\n",
              "    };\n",
              "  });\n",
              "\n",
              "  // Wait for the user to pick the files.\n",
              "  const files = yield {\n",
              "    promise: Promise.race([pickedPromise, cancelPromise]),\n",
              "    response: {\n",
              "      action: 'starting',\n",
              "    }\n",
              "  };\n",
              "\n",
              "  cancel.remove();\n",
              "\n",
              "  // Disable the input element since further picks are not allowed.\n",
              "  inputElement.disabled = true;\n",
              "\n",
              "  if (!files) {\n",
              "    return {\n",
              "      response: {\n",
              "        action: 'complete',\n",
              "      }\n",
              "    };\n",
              "  }\n",
              "\n",
              "  for (const file of files) {\n",
              "    const li = document.createElement('li');\n",
              "    li.append(span(file.name, {fontWeight: 'bold'}));\n",
              "    li.append(span(\n",
              "        `(${file.type || 'n/a'}) - ${file.size} bytes, ` +\n",
              "        `last modified: ${\n",
              "            file.lastModifiedDate ? file.lastModifiedDate.toLocaleDateString() :\n",
              "                                    'n/a'} - `));\n",
              "    const percent = span('0% done');\n",
              "    li.appendChild(percent);\n",
              "\n",
              "    outputElement.appendChild(li);\n",
              "\n",
              "    const fileDataPromise = new Promise((resolve) => {\n",
              "      const reader = new FileReader();\n",
              "      reader.onload = (e) => {\n",
              "        resolve(e.target.result);\n",
              "      };\n",
              "      reader.readAsArrayBuffer(file);\n",
              "    });\n",
              "    // Wait for the data to be ready.\n",
              "    let fileData = yield {\n",
              "      promise: fileDataPromise,\n",
              "      response: {\n",
              "        action: 'continue',\n",
              "      }\n",
              "    };\n",
              "\n",
              "    // Use a chunked sending to avoid message size limits. See b/62115660.\n",
              "    let position = 0;\n",
              "    do {\n",
              "      const length = Math.min(fileData.byteLength - position, MAX_PAYLOAD_SIZE);\n",
              "      const chunk = new Uint8Array(fileData, position, length);\n",
              "      position += length;\n",
              "\n",
              "      const base64 = btoa(String.fromCharCode.apply(null, chunk));\n",
              "      yield {\n",
              "        response: {\n",
              "          action: 'append',\n",
              "          file: file.name,\n",
              "          data: base64,\n",
              "        },\n",
              "      };\n",
              "\n",
              "      let percentDone = fileData.byteLength === 0 ?\n",
              "          100 :\n",
              "          Math.round((position / fileData.byteLength) * 100);\n",
              "      percent.textContent = `${percentDone}% done`;\n",
              "\n",
              "    } while (position < fileData.byteLength);\n",
              "  }\n",
              "\n",
              "  // All done.\n",
              "  yield {\n",
              "    response: {\n",
              "      action: 'complete',\n",
              "    }\n",
              "  };\n",
              "}\n",
              "\n",
              "scope.google = scope.google || {};\n",
              "scope.google.colab = scope.google.colab || {};\n",
              "scope.google.colab._files = {\n",
              "  _uploadFiles,\n",
              "  _uploadFilesContinue,\n",
              "};\n",
              "})(self);\n",
              "</script> "
            ],
            "text/plain": [
              "<IPython.core.display.HTML object>"
            ]
          },
          "metadata": {},
          "output_type": "display_data"
        },
        {
          "name": "stdout",
          "output_type": "stream",
          "text": [
            "Saving add.html to add.html\n",
            "Saving crudd.html to crudd.html\n",
            "Saving update.html to update.html\n"
          ]
        },
        {
          "data": {
            "text/plain": [
              "{'add.html': b'<!DOCTYPE html>\\r\\n<html>\\r\\n<head>\\r\\n    <title>Add User</title>\\r\\n</head>\\r\\n<body>\\r\\n    <h2>Add New User</h2>\\r\\n    <form action=\"{{ url_for(\\'add\\') }}\" method=\"POST\">\\r\\n        <label>Name:</label><br>\\r\\n        <input type=\"text\" name=\"name\" required><br>\\r\\n        <label>Email:</label><br>\\r\\n        <input type=\"email\" name=\"email\" required><br>\\r\\n        <label>Photo URL:</label><br>\\r\\n        <input type=\"text\" name=\"photo\"><br>\\r\\n        <label>Price:</label><br>\\r\\n        <input type=\"number\" step=\"0.01\" name=\"price\"><br><br>\\r\\n        <button type=\"submit\">Add User</button>\\r\\n    </form>\\r\\n    <br>\\r\\n    <a href=\"{{ url_for(\\'index\\') }}\">Back to Home</a>\\r\\n</body>\\r\\n</html>\\r\\n',\n",
              " 'crudd.html': b'<!DOCTYPE html>\\r\\n<html>\\r\\n<head>\\r\\n    <title>CRUD App</title>\\r\\n</head>\\r\\n<body>\\r\\n    <h2>User Management</h2>\\r\\n    <a href=\"{{ url_for(\\'add_form\\') }}\">\\r\\n        <button>Add New User</button>\\r\\n    </a>\\r\\n    <hr>\\r\\n    <table border=\"1\" cellpadding=\"5\" cellspacing=\"0\">\\r\\n        <tr>\\r\\n            <th>ID</th><th>Name</th><th>Email</th><th>Photo</th><th>Price</th><th>Actions</th>\\r\\n        </tr>\\r\\n        {% for user in users %}\\r\\n        <tr>\\r\\n            <td>{{ user.id }}</td>\\r\\n            <td>{{ user.name }}</td>\\r\\n            <td>{{ user.email }}</td>\\r\\n            <td><img src=\"{{ user.photo }}\" alt=\"No photo\" width=\"50\"></td>\\r\\n            <td>{{ user.price }}</td>\\r\\n            <td>\\r\\n                <a href=\"{{ url_for(\\'edit_form\\', id=user.id) }}\"><button>Edit</button></a>\\r\\n                <a href=\"{{ url_for(\\'delete\\', id=user.id) }}\">Delete</a>\\r\\n            </td>\\r\\n        </tr>\\r\\n        {% endfor %}\\r\\n    </table>\\r\\n</body>\\r\\n</html>\\r\\n',\n",
              " 'update.html': b'<!DOCTYPE html>\\r\\n<html>\\r\\n<head>\\r\\n    <title>Edit User</title>\\r\\n</head>\\r\\n<body>\\r\\n    <h2>Edit User</h2>\\r\\n    <form action=\"{{ url_for(\\'update\\', id=user.id) }}\" method=\"POST\">\\r\\n        <label>Name:</label><br>\\r\\n        <input type=\"text\" name=\"name\" value=\"{{ user.name }}\" required><br>\\r\\n        <label>Email:</label><br>\\r\\n        <input type=\"email\" name=\"email\" value=\"{{ user.email }}\" required><br>\\r\\n        <label>Photo URL:</label><br>\\r\\n        <input type=\"text\" name=\"photo\" value=\"{{ user.photo }}\"><br>\\r\\n        <label>Price:</label><br>\\r\\n        <input type=\"number\" step=\"0.01\" name=\"price\" value=\"{{ user.price }}\"><br><br>\\r\\n        <button type=\"submit\">Update User</button>\\r\\n    </form>\\r\\n    <br>\\r\\n    <a href=\"{{ url_for(\\'index\\') }}\">Back to Home</a>\\r\\n</body>\\r\\n</html>\\r\\n'}"
            ]
          },
          "execution_count": 27,
          "metadata": {},
          "output_type": "execute_result"
        }
      ],
      "source": [
        "from google.colab import files\n",
        "files.upload()"
      ]
    },
    {
      "cell_type": "code",
      "execution_count": null,
      "metadata": {
        "id": "YiKi0jV93xW8"
      },
      "outputs": [],
      "source": [
        "import os\n",
        "os.makedirs(\"templates\", exist_ok=True)\n",
        "os.rename(\"crudd.html\", 'templates/crudd.html')\n",
        "os.rename(\"update.html\", 'templates/update.html')\n",
        "os.rename(\"add.html\", 'templates/add.html')"
      ]
    },
    {
      "cell_type": "code",
      "execution_count": null,
      "metadata": {
        "colab": {
          "base_uri": "https://localhost:8080/"
        },
        "id": "5lm7D_hy3xE_",
        "outputId": "10028070-7510-41f6-95ac-f668fd37aa33"
      },
      "outputs": [
        {
          "name": "stdout",
          "output_type": "stream",
          "text": [
            " * Starting MySQL database server mysqld\n",
            "   ...done.\n",
            "Requirement already satisfied: mysql-connector-python in /usr/local/lib/python3.11/dist-packages (9.4.0)\n"
          ]
        }
      ],
      "source": [
        "!apt-get install mysql-server > /dev/null\n",
        "!service mysql start\n",
        "!pip install mysql-connector-python"
      ]
    },
    {
      "cell_type": "code",
      "execution_count": null,
      "metadata": {
        "colab": {
          "base_uri": "https://localhost:8080/"
        },
        "id": "C8AGgpfp3wbL",
        "outputId": "481bcbd7-1118-479d-d70a-f764935926c7"
      },
      "outputs": [
        {
          "name": "stdout",
          "output_type": "stream",
          "text": [
            " * Starting MySQL database server mysqld\n",
            "   ...done.\n",
            "ERROR 1045 (28000): Access denied for user 'root'@'localhost' (using password: NO)\n"
          ]
        }
      ],
      "source": [
        "!sudo service mysql start\n",
        "!sudo mysql -e \"ALTER USER 'root'@'localhost' IDENTIFIED WITH mysql_native_password BY 'root'; FLUSH PRIVILEGES;\"\n"
      ]
    },
    {
      "cell_type": "code",
      "execution_count": null,
      "metadata": {
        "colab": {
          "base_uri": "https://localhost:8080/"
        },
        "id": "jBCMGl3w4A8Y",
        "outputId": "2ab2d55b-927b-4cef-ee38-1686a0cf899d"
      },
      "outputs": [
        {
          "name": "stdout",
          "output_type": "stream",
          "text": [
            "Database Create Succesfully.\n"
          ]
        }
      ],
      "source": [
        "import mysql.connector\n",
        "conn = mysql.connector.connect(\n",
        "    host=\"localhost\",\n",
        "    user=\"root\",\n",
        "    password=\"root\"\n",
        ")\n",
        "cursor=conn.cursor()\n",
        "cursor.execute(\"DROP DATABASE IF EXISTS crud_demo\")\n",
        "cursor.execute(\"create database crud_demo\")\n",
        "cursor.execute(\"use crud_demo\")\n",
        "cursor.execute(\"\"\"\n",
        "            create table users(\n",
        "              id int auto_increment primary key,\n",
        "              name varchar(50),\n",
        "              photo varchar(10000),\n",
        "              email varchar(50),\n",
        "              price int\n",
        "            )\n",
        "\"\"\")\n",
        "conn.commit()\n",
        "conn.close()\n",
        "print(\"Database Create Succesfully.\")"
      ]
    },
    {
      "cell_type": "code",
      "execution_count": null,
      "metadata": {
        "colab": {
          "background_save": true
        },
        "id": "I52L1l4QiWKZ"
      },
      "outputs": [],
      "source": [
        "from flask import Flask,redirect,request,render_template,url_for\n",
        "app=Flask(__name__)\n",
        "def connections():\n",
        "  return mysql.connector.connect(\n",
        "      host=\"localhost\",\n",
        "      user=\"root\",\n",
        "      password=\"root\",\n",
        "      database=\"crud_demo\"\n",
        "  )"
      ]
    },
    {
      "cell_type": "code",
      "execution_count": null,
      "metadata": {
        "id": "bevgkrju4BxG"
      },
      "outputs": [],
      "source": [
        "#home\n",
        "@app.route(\"/\")\n",
        "def index():\n",
        "  conn=connections()\n",
        "  cursor=conn.cursor(dictionary=True)\n",
        "  cursor.execute(\"select * from users\")\n",
        "  users=cursor.fetchall()\n",
        "  conn.commit()\n",
        "  conn.close()\n",
        "  return render_template(\"crudd.html\",users=users)"
      ]
    },
    {
      "cell_type": "code",
      "execution_count": null,
      "metadata": {
        "id": "o5aUG1tAqCt7"
      },
      "outputs": [],
      "source": [
        "# add page form\n",
        "@app.route('/add_form')\n",
        "def add_form():\n",
        "  return render_template(\"add.html\")"
      ]
    },
    {
      "cell_type": "code",
      "execution_count": null,
      "metadata": {
        "id": "Jv30AUD35e3C"
      },
      "outputs": [],
      "source": [
        "#add\n",
        "@app.route(\"/add\",methods=[\"POST\"])\n",
        "def add():\n",
        "  photo=request.form.get(\"photo\")\n",
        "  name=request.form.get(\"name\")\n",
        "  email=request.form.get(\"email\")\n",
        "  price=request.form.get(\"price\")\n",
        "  conn=connections()\n",
        "  cursor=conn.cursor()\n",
        "  cursor.execute(\"insert into users(photo,name,email,price) values(%s,%s,%s,%s)\",(photo,name,email,photo))\n",
        "  conn.commit()\n",
        "  conn.close()\n",
        "  return redirect(\"/\")"
      ]
    },
    {
      "cell_type": "code",
      "execution_count": null,
      "metadata": {
        "id": "SBf2iLVs670c"
      },
      "outputs": [],
      "source": [
        "#delete\n",
        "@app.route('/delete/<int:id>',methods=[\"POST\"])\n",
        "def delete(id):\n",
        "  conn=connections()\n",
        "  cursor=conn.cursor()\n",
        "  cursor.execute(\"delete from users where id=%s\",(id,))\n",
        "  conn.commit()\n",
        "  conn.close()\n",
        "  return redirect('/')"
      ]
    },
    {
      "cell_type": "code",
      "execution_count": null,
      "metadata": {
        "id": "gbl_IIg37tMn"
      },
      "outputs": [],
      "source": [
        "#update form\n",
        "@app.route(\"/edit_form/<int:id>\")\n",
        "def update_form():\n",
        "  conn=connections()\n",
        "  cursor=conn.cursor(dictionay=True)\n",
        "  cursor.execute(\"select * from users where id=%s\",(id,))\n",
        "  users=cursor.fetchone()\n",
        "  conn.commit()\n",
        "  conn.close()\n",
        "  return render_template(\"update.html\",users=users)"
      ]
    },
    {
      "cell_type": "code",
      "execution_count": null,
      "metadata": {
        "id": "p5TQneQy9mKQ"
      },
      "outputs": [],
      "source": [
        "#update\n",
        "@app.route('/updat/<int:id>',methods=[\"POST\",\"GET\"])\n",
        "def update(id):\n",
        "  photo=request.form.get(\"photo\")\n",
        "  name=request.form.get(\"name\")\n",
        "  email=request.form.get(\"email\")\n",
        "  price=request.form.get(\"price\")\n",
        "  conn=connections()\n",
        "  cursor=conn.cursor()\n",
        "  cursor.execute(\"update users set photo=%s,name=%s,email=%s,price=%s where id=%s\",(photo,name,email,price,id))\n",
        "  conn.commit()\n",
        "  conn.close()\n",
        "  return redirect(\"/\")"
      ]
    },
    {
      "cell_type": "code",
      "execution_count": null,
      "metadata": {
        "colab": {
          "base_uri": "https://localhost:8080/"
        },
        "id": "NpSZTM2A9l1n",
        "outputId": "a4ed8918-bb5f-4629-f217-f771a87e7931"
      },
      "outputs": [
        {
          "name": "stdout",
          "output_type": "stream",
          "text": [
            "kill: usage: kill [-s sigspec | -n signum | -sigspec] pid | jobspec ... or kill -l [sigspec]\n",
            "Requirement already satisfied: pyngrok in /usr/local/lib/python3.11/dist-packages (7.3.0)\n",
            "Requirement already satisfied: PyYAML>=5.1 in /usr/local/lib/python3.11/dist-packages (from pyngrok) (6.0.2)\n"
          ]
        }
      ],
      "source": [
        "!kill -9 $(lsof -t -i:5000)\n",
        "!pkill -f ngrok\n",
        "!pip install pyngrok"
      ]
    },
    {
      "cell_type": "code",
      "execution_count": null,
      "metadata": {
        "colab": {
          "base_uri": "https://localhost:8080/"
        },
        "id": "LyDqshja_sZt",
        "outputId": "e4f7749c-aa5f-406f-c122-60f0562a610f"
      },
      "outputs": [
        {
          "name": "stdout",
          "output_type": "stream",
          "text": [
            "Requirement already satisfied: flask in /usr/local/lib/python3.11/dist-packages (3.1.1)\n",
            "Requirement already satisfied: flask_sqlalchemy in /usr/local/lib/python3.11/dist-packages (3.1.1)\n",
            "Requirement already satisfied: pyngrok in /usr/local/lib/python3.11/dist-packages (7.3.0)\n",
            "Requirement already satisfied: blinker>=1.9.0 in /usr/local/lib/python3.11/dist-packages (from flask) (1.9.0)\n",
            "Requirement already satisfied: click>=8.1.3 in /usr/local/lib/python3.11/dist-packages (from flask) (8.2.1)\n",
            "Requirement already satisfied: itsdangerous>=2.2.0 in /usr/local/lib/python3.11/dist-packages (from flask) (2.2.0)\n",
            "Requirement already satisfied: jinja2>=3.1.2 in /usr/local/lib/python3.11/dist-packages (from flask) (3.1.6)\n",
            "Requirement already satisfied: markupsafe>=2.1.1 in /usr/local/lib/python3.11/dist-packages (from flask) (3.0.2)\n",
            "Requirement already satisfied: werkzeug>=3.1.0 in /usr/local/lib/python3.11/dist-packages (from flask) (3.1.3)\n",
            "Requirement already satisfied: sqlalchemy>=2.0.16 in /usr/local/lib/python3.11/dist-packages (from flask_sqlalchemy) (2.0.43)\n",
            "Requirement already satisfied: PyYAML>=5.1 in /usr/local/lib/python3.11/dist-packages (from pyngrok) (6.0.2)\n",
            "Requirement already satisfied: greenlet>=1 in /usr/local/lib/python3.11/dist-packages (from sqlalchemy>=2.0.16->flask_sqlalchemy) (3.2.4)\n",
            "Requirement already satisfied: typing-extensions>=4.6.0 in /usr/local/lib/python3.11/dist-packages (from sqlalchemy>=2.0.16->flask_sqlalchemy) (4.14.1)\n",
            " * Serving Flask app '__main__'\n",
            " * Debug mode: on\n"
          ]
        },
        {
          "name": "stderr",
          "output_type": "stream",
          "text": [
            "INFO:werkzeug:\u001b[31m\u001b[1mWARNING: This is a development server. Do not use it in a production deployment. Use a production WSGI server instead.\u001b[0m\n",
            " * Running on http://127.0.0.1:5000\n",
            "INFO:werkzeug:\u001b[33mPress CTRL+C to quit\u001b[0m\n"
          ]
        },
        {
          "name": "stdout",
          "output_type": "stream",
          "text": [
            "Public URL: NgrokTunnel: \"https://52995ce8f164.ngrok-free.app\" -> \"http://localhost:5000\"\n"
          ]
        }
      ],
      "source": [
        "!pip install flask flask_sqlalchemy pyngrok\n",
        "from pyngrok import ngrok\n",
        "import threading\n",
        "# Run Flask + ngrok\n",
        "def run_app():\n",
        "    app.run(debug=True,port=5000, use_reloader=False)\n",
        "\n",
        "def start_ngrok():\n",
        "    NGROK_AUTH_TOKEN = \"312fOS0hZwQ63Dy4JFD0RZf0LD9_4FUBYoU3j9ZV2M6N8tuEM\"  # Replace with your token from ngrok.com\n",
        "    ngrok.set_auth_token(NGROK_AUTH_TOKEN)\n",
        "    url = ngrok.connect(5000)\n",
        "    print(f\"Public URL: {url}\")\n",
        "\n",
        "threading.Thread(target=run_app).start()\n",
        "start_ngrok()"
      ]
    }
  ],
  "metadata": {
    "colab": {
      "provenance": [],
      "authorship_tag": "ABX9TyP0gk5fx7au9q7sEcSClNcE",
      "include_colab_link": true
    },
    "kernelspec": {
      "display_name": "Python 3",
      "name": "python3"
    },
    "language_info": {
      "name": "python"
    }
  },
  "nbformat": 4,
  "nbformat_minor": 0
}